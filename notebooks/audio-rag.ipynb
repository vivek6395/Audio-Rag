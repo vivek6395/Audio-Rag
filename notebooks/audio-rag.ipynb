{
 "cells": [
  {
   "cell_type": "code",
   "execution_count": null,
   "id": "42fa749c",
   "metadata": {},
   "outputs": [],
   "source": [
    "import librosa\n",
    "from transformers import Wav2Vec2Model, Wav2Vec2Processor\n",
    "import torch\n",
    "from qdrant_client.http.models import PointStruct\n",
    "audio_path=\"A:\\Projects\\Audio-Rag\\Data\\wav_audio\\sample-3s.wav\"\n",
    "\n"
   ]
  },
  {
   "cell_type": "code",
   "execution_count": 64,
   "id": "89678f0c",
   "metadata": {},
   "outputs": [],
   "source": [
    "def get_audio_in_number(audio_path:str):\n",
    "    audio, sr = librosa.load(audio_path, sr=16000)  # load audio at 16kHz\n",
    "    return audio\n",
    "def get_processor_model():\n",
    "    \"\"\"\n",
    "    returns: model, processor\n",
    "    \"\"\"\n",
    "    processor = Wav2Vec2Processor.from_pretrained(\"facebook/wav2vec2-base-960h\")\n",
    "    model = Wav2Vec2Model.from_pretrained(\"facebook/wav2vec2-base-960h\")\n",
    "    return model, processor\n",
    "\n",
    "def get_embedding(audio):\n",
    "    model, processor = get_processor_model()\n",
    "    input_values = processor(audio, return_tensors=\"pt\", sampling_rate=16000).input_values\n",
    "    with torch.no_grad():\n",
    "        embeddings = model(input_values).last_hidden_state  # (batch_size, sequence_length, hidden_size)\n",
    "    audio_embedding = embeddings.mean(dim=1)  # (batch_size, hidden_size)\n",
    "    return audio_embedding[0] \n",
    "\n",
    "def insert_in_collection(collection_name:str,embedding,path):\n",
    "    operation_info = client.upsert(\n",
    "        collection_name=\"audio_vectors\",\n",
    "        wait=True,\n",
    "        points=[\n",
    "            PointStruct(id=1, vector=audio_embedding, payload={\"city\": audio_path}),\n",
    "        ]\n",
    "    )"
   ]
  },
  {
   "cell_type": "code",
   "execution_count": null,
   "id": "7104134d",
   "metadata": {},
   "outputs": [
    {
     "name": "stderr",
     "output_type": "stream",
     "text": [
      "C:\\Users\\vivek\\AppData\\Local\\Temp\\ipykernel_17548\\4214607031.py:2: DeprecationWarning: `recreate_collection` method is deprecated and will be removed in the future. Use `collection_exists` to check collection existence and `create_collection` instead.\n",
      "  client.recreate_collection(\n"
     ]
    },
    {
     "data": {
      "text/plain": [
       "True"
      ]
     },
     "execution_count": 27,
     "metadata": {},
     "output_type": "execute_result"
    }
   ],
   "source": [
    "from qdrant_client import QdrantClient\n",
    "from qdrant_client.models import VectorParams, Distance\n",
    "\n",
    "# Connect to your Qdrant server (local or cloud)\n",
    "client = QdrantClient(path=\"A:\\Projects\\Audio-Rag\\qdrant\")\n",
    "\n",
    "# Create a collection\n",
    "client.recreate_collection(\n",
    "    collection_name=\"audio_vectors\",\n",
    "    vectors_config=VectorParams(\n",
    "        size=768,                   # size of your vector (example: 512 dims)\n",
    "        distance=Distance.COSINE,    # distance metric: COSINE / EUCLID / DOT\n",
    "        on_disk=True                 # important: store vectors on disk\n",
    "    )\n",
    ")"
   ]
  },
  {
   "cell_type": "code",
   "execution_count": 65,
   "id": "c1390032",
   "metadata": {},
   "outputs": [
    {
     "name": "stderr",
     "output_type": "stream",
     "text": [
      "Some weights of Wav2Vec2Model were not initialized from the model checkpoint at facebook/wav2vec2-base-960h and are newly initialized: ['masked_spec_embed']\n",
      "You should probably TRAIN this model on a down-stream task to be able to use it for predictions and inference.\n",
      "C:\\Users\\vivek\\AppData\\Local\\Temp\\ipykernel_17548\\2886985831.py:11: DeprecationWarning: `search` method is deprecated and will be removed in the future. Use `query_points` instead.\n",
      "  search_result = client.search(\n"
     ]
    },
    {
     "ename": "TypeError",
     "evalue": "only integer scalar arrays can be converted to a scalar index",
     "output_type": "error",
     "traceback": [
      "\u001b[31m---------------------------------------------------------------------------\u001b[39m",
      "\u001b[31mTypeError\u001b[39m                                 Traceback (most recent call last)",
      "\u001b[36mCell\u001b[39m\u001b[36m \u001b[39m\u001b[32mIn[65]\u001b[39m\u001b[32m, line 11\u001b[39m\n\u001b[32m      8\u001b[39m query_vector = query_vector.tolist()  \u001b[38;5;66;03m# No need to squeeze again, already shape (hidden_size,)\u001b[39;00m\n\u001b[32m     10\u001b[39m \u001b[38;5;66;03m# Now search\u001b[39;00m\n\u001b[32m---> \u001b[39m\u001b[32m11\u001b[39m search_result = \u001b[43mclient\u001b[49m\u001b[43m.\u001b[49m\u001b[43msearch\u001b[49m\u001b[43m(\u001b[49m\n\u001b[32m     12\u001b[39m \u001b[43m    \u001b[49m\u001b[43mcollection_name\u001b[49m\u001b[43m=\u001b[49m\u001b[33;43m\"\u001b[39;49m\u001b[33;43maudio_vectors\u001b[39;49m\u001b[33;43m\"\u001b[39;49m\u001b[43m,\u001b[49m\n\u001b[32m     13\u001b[39m \u001b[43m    \u001b[49m\u001b[43mquery_vector\u001b[49m\u001b[43m=\u001b[49m\u001b[43mquery_vector\u001b[49m\u001b[43m,\u001b[49m\u001b[43m  \u001b[49m\u001b[38;5;66;43;03m# Correct variable\u001b[39;49;00m\n\u001b[32m     14\u001b[39m \u001b[43m    \u001b[49m\u001b[43mlimit\u001b[49m\u001b[43m=\u001b[49m\u001b[32;43m1\u001b[39;49m\n\u001b[32m     15\u001b[39m \u001b[43m)\u001b[49m\n",
      "\u001b[36mFile \u001b[39m\u001b[32ma:\\Projects\\venv\\Lib\\site-packages\\qdrant_client\\qdrant_client.py:373\u001b[39m, in \u001b[36mQdrantClient.search\u001b[39m\u001b[34m(self, collection_name, query_vector, query_filter, search_params, limit, offset, with_payload, with_vectors, score_threshold, append_payload, consistency, shard_key_selector, timeout, **kwargs)\u001b[39m\n\u001b[32m    366\u001b[39m \u001b[38;5;28;01massert\u001b[39;00m \u001b[38;5;28mlen\u001b[39m(kwargs) == \u001b[32m0\u001b[39m, \u001b[33mf\u001b[39m\u001b[33m\"\u001b[39m\u001b[33mUnknown arguments: \u001b[39m\u001b[38;5;132;01m{\u001b[39;00m\u001b[38;5;28mlist\u001b[39m(kwargs.keys())\u001b[38;5;132;01m}\u001b[39;00m\u001b[33m\"\u001b[39m\n\u001b[32m    367\u001b[39m warnings.warn(\n\u001b[32m    368\u001b[39m     \u001b[33m\"\u001b[39m\u001b[33m`search` method is deprecated and will be removed in the future.\u001b[39m\u001b[33m\"\u001b[39m\n\u001b[32m    369\u001b[39m     \u001b[33m\"\u001b[39m\u001b[33m Use `query_points` instead.\u001b[39m\u001b[33m\"\u001b[39m,\n\u001b[32m    370\u001b[39m     \u001b[38;5;167;01mDeprecationWarning\u001b[39;00m,\n\u001b[32m    371\u001b[39m     stacklevel=\u001b[32m2\u001b[39m,\n\u001b[32m    372\u001b[39m )\n\u001b[32m--> \u001b[39m\u001b[32m373\u001b[39m \u001b[38;5;28;01mreturn\u001b[39;00m \u001b[38;5;28;43mself\u001b[39;49m\u001b[43m.\u001b[49m\u001b[43m_client\u001b[49m\u001b[43m.\u001b[49m\u001b[43msearch\u001b[49m\u001b[43m(\u001b[49m\n\u001b[32m    374\u001b[39m \u001b[43m    \u001b[49m\u001b[43mcollection_name\u001b[49m\u001b[43m=\u001b[49m\u001b[43mcollection_name\u001b[49m\u001b[43m,\u001b[49m\n\u001b[32m    375\u001b[39m \u001b[43m    \u001b[49m\u001b[43mquery_vector\u001b[49m\u001b[43m=\u001b[49m\u001b[43mquery_vector\u001b[49m\u001b[43m,\u001b[49m\n\u001b[32m    376\u001b[39m \u001b[43m    \u001b[49m\u001b[43mquery_filter\u001b[49m\u001b[43m=\u001b[49m\u001b[43mquery_filter\u001b[49m\u001b[43m,\u001b[49m\n\u001b[32m    377\u001b[39m \u001b[43m    \u001b[49m\u001b[43msearch_params\u001b[49m\u001b[43m=\u001b[49m\u001b[43msearch_params\u001b[49m\u001b[43m,\u001b[49m\n\u001b[32m    378\u001b[39m \u001b[43m    \u001b[49m\u001b[43mlimit\u001b[49m\u001b[43m=\u001b[49m\u001b[43mlimit\u001b[49m\u001b[43m,\u001b[49m\n\u001b[32m    379\u001b[39m \u001b[43m    \u001b[49m\u001b[43moffset\u001b[49m\u001b[43m=\u001b[49m\u001b[43moffset\u001b[49m\u001b[43m,\u001b[49m\n\u001b[32m    380\u001b[39m \u001b[43m    \u001b[49m\u001b[43mwith_payload\u001b[49m\u001b[43m=\u001b[49m\u001b[43mwith_payload\u001b[49m\u001b[43m,\u001b[49m\n\u001b[32m    381\u001b[39m \u001b[43m    \u001b[49m\u001b[43mwith_vectors\u001b[49m\u001b[43m=\u001b[49m\u001b[43mwith_vectors\u001b[49m\u001b[43m,\u001b[49m\n\u001b[32m    382\u001b[39m \u001b[43m    \u001b[49m\u001b[43mscore_threshold\u001b[49m\u001b[43m=\u001b[49m\u001b[43mscore_threshold\u001b[49m\u001b[43m,\u001b[49m\n\u001b[32m    383\u001b[39m \u001b[43m    \u001b[49m\u001b[43mappend_payload\u001b[49m\u001b[43m=\u001b[49m\u001b[43mappend_payload\u001b[49m\u001b[43m,\u001b[49m\n\u001b[32m    384\u001b[39m \u001b[43m    \u001b[49m\u001b[43mconsistency\u001b[49m\u001b[43m=\u001b[49m\u001b[43mconsistency\u001b[49m\u001b[43m,\u001b[49m\n\u001b[32m    385\u001b[39m \u001b[43m    \u001b[49m\u001b[43mshard_key_selector\u001b[49m\u001b[43m=\u001b[49m\u001b[43mshard_key_selector\u001b[49m\u001b[43m,\u001b[49m\n\u001b[32m    386\u001b[39m \u001b[43m    \u001b[49m\u001b[43mtimeout\u001b[49m\u001b[43m=\u001b[49m\u001b[43mtimeout\u001b[49m\u001b[43m,\u001b[49m\n\u001b[32m    387\u001b[39m \u001b[43m    \u001b[49m\u001b[43m*\u001b[49m\u001b[43m*\u001b[49m\u001b[43mkwargs\u001b[49m\u001b[43m,\u001b[49m\n\u001b[32m    388\u001b[39m \u001b[43m\u001b[49m\u001b[43m)\u001b[49m\n",
      "\u001b[36mFile \u001b[39m\u001b[32ma:\\Projects\\venv\\Lib\\site-packages\\qdrant_client\\local\\qdrant_local.py:216\u001b[39m, in \u001b[36mQdrantLocal.search\u001b[39m\u001b[34m(self, collection_name, query_vector, query_filter, search_params, limit, offset, with_payload, with_vectors, score_threshold, **kwargs)\u001b[39m\n\u001b[32m    196\u001b[39m \u001b[38;5;28;01mdef\u001b[39;00m\u001b[38;5;250m \u001b[39m\u001b[34msearch\u001b[39m(\n\u001b[32m    197\u001b[39m     \u001b[38;5;28mself\u001b[39m,\n\u001b[32m    198\u001b[39m     collection_name: \u001b[38;5;28mstr\u001b[39m,\n\u001b[32m   (...)\u001b[39m\u001b[32m    213\u001b[39m     **kwargs: Any,\n\u001b[32m    214\u001b[39m ) -> \u001b[38;5;28mlist\u001b[39m[types.ScoredPoint]:\n\u001b[32m    215\u001b[39m     collection = \u001b[38;5;28mself\u001b[39m._get_collection(collection_name)\n\u001b[32m--> \u001b[39m\u001b[32m216\u001b[39m     \u001b[38;5;28;01mreturn\u001b[39;00m \u001b[43mcollection\u001b[49m\u001b[43m.\u001b[49m\u001b[43msearch\u001b[49m\u001b[43m(\u001b[49m\n\u001b[32m    217\u001b[39m \u001b[43m        \u001b[49m\u001b[43mquery_vector\u001b[49m\u001b[43m=\u001b[49m\u001b[43mquery_vector\u001b[49m\u001b[43m,\u001b[49m\n\u001b[32m    218\u001b[39m \u001b[43m        \u001b[49m\u001b[43mquery_filter\u001b[49m\u001b[43m=\u001b[49m\u001b[43mquery_filter\u001b[49m\u001b[43m,\u001b[49m\n\u001b[32m    219\u001b[39m \u001b[43m        \u001b[49m\u001b[43mlimit\u001b[49m\u001b[43m=\u001b[49m\u001b[43mlimit\u001b[49m\u001b[43m,\u001b[49m\n\u001b[32m    220\u001b[39m \u001b[43m        \u001b[49m\u001b[43moffset\u001b[49m\u001b[43m=\u001b[49m\u001b[43moffset\u001b[49m\u001b[43m,\u001b[49m\n\u001b[32m    221\u001b[39m \u001b[43m        \u001b[49m\u001b[43mwith_payload\u001b[49m\u001b[43m=\u001b[49m\u001b[43mwith_payload\u001b[49m\u001b[43m,\u001b[49m\n\u001b[32m    222\u001b[39m \u001b[43m        \u001b[49m\u001b[43mwith_vectors\u001b[49m\u001b[43m=\u001b[49m\u001b[43mwith_vectors\u001b[49m\u001b[43m,\u001b[49m\n\u001b[32m    223\u001b[39m \u001b[43m        \u001b[49m\u001b[43mscore_threshold\u001b[49m\u001b[43m=\u001b[49m\u001b[43mscore_threshold\u001b[49m\u001b[43m,\u001b[49m\n\u001b[32m    224\u001b[39m \u001b[43m    \u001b[49m\u001b[43m)\u001b[49m\n",
      "\u001b[36mFile \u001b[39m\u001b[32ma:\\Projects\\venv\\Lib\\site-packages\\qdrant_client\\local\\local_collection.py:640\u001b[39m, in \u001b[36mLocalCollection.search\u001b[39m\u001b[34m(self, query_vector, query_filter, limit, offset, with_payload, with_vectors, score_threshold)\u001b[39m\n\u001b[32m    638\u001b[39m \u001b[38;5;28;01mif\u001b[39;00m sparse_scoring \u001b[38;5;129;01mand\u001b[39;00m score == -np.inf:\n\u001b[32m    639\u001b[39m     \u001b[38;5;28;01mcontinue\u001b[39;00m\n\u001b[32m--> \u001b[39m\u001b[32m640\u001b[39m point_id = \u001b[38;5;28;43mself\u001b[39;49m\u001b[43m.\u001b[49m\u001b[43mids_inv\u001b[49m\u001b[43m[\u001b[49m\u001b[43midx\u001b[49m\u001b[43m]\u001b[49m\n\u001b[32m    642\u001b[39m \u001b[38;5;28;01mif\u001b[39;00m score_threshold \u001b[38;5;129;01mis\u001b[39;00m \u001b[38;5;129;01mnot\u001b[39;00m \u001b[38;5;28;01mNone\u001b[39;00m:\n\u001b[32m    643\u001b[39m     \u001b[38;5;28;01mif\u001b[39;00m required_order == DistanceOrder.BIGGER_IS_BETTER:\n",
      "\u001b[31mTypeError\u001b[39m: only integer scalar arrays can be converted to a scalar index"
     ]
    }
   ],
   "source": [
    "# Get audio as a numpy array (or however your get_audio_in_number works)\n",
    "audio = get_audio_in_number(audio_path)\n",
    "\n",
    "# Get the embedding\n",
    "query_vector = get_embedding(audio)\n",
    "\n",
    "# Convert to list for Qdrant\n",
    "query_vector = query_vector.tolist()  # No need to squeeze again, already shape (hidden_size,)\n",
    "\n",
    "# Now search\n",
    "search_result = client.search(\n",
    "    collection_name=\"audio_vectors\",\n",
    "    query_vector=query_vector,  # Correct variable\n",
    "    limit=1\n",
    ")"
   ]
  }
 ],
 "metadata": {
  "kernelspec": {
   "display_name": "venv",
   "language": "python",
   "name": "python3"
  },
  "language_info": {
   "codemirror_mode": {
    "name": "ipython",
    "version": 3
   },
   "file_extension": ".py",
   "mimetype": "text/x-python",
   "name": "python",
   "nbconvert_exporter": "python",
   "pygments_lexer": "ipython3",
   "version": "3.12.6"
  }
 },
 "nbformat": 4,
 "nbformat_minor": 5
}
